{
 "cells": [
  {
   "cell_type": "code",
   "execution_count": 22,
   "metadata": {},
   "outputs": [
    {
     "name": "stdout",
     "output_type": "stream",
     "text": [
      "d d\n",
      "y y\n",
      "h h\n",
      "Valid\n"
     ]
    }
   ],
   "source": [
    "# s=\"jaweed dowry yash home\"\n",
    "# s=\"eagle eagle oh house elated\"\n",
    "# s=\"dongle excited danger doubt\"\n",
    "# s=\"ajesh how worst torture\"\n",
    "c=0\n",
    "l=[]\n",
    "for i in range(len(s)):\n",
    "    if s[i]==' ':\n",
    "        if(s[c-1]==s[c+1]):\n",
    "            l.append(True)\n",
    "            print(s[c-1],s[c+1])\n",
    "        else:\n",
    "            print(s[c-1],s[c+1])\n",
    "            l.append(False)\n",
    "        c+=1\n",
    "    else:\n",
    "        c+=1\n",
    "if False in l:\n",
    "    print(\"Invalid\")\n",
    "else:\n",
    "    print(\"Valid\")"
   ]
  },
  {
   "cell_type": "code",
   "execution_count": 29,
   "metadata": {},
   "outputs": [
    {
     "name": "stdout",
     "output_type": "stream",
     "text": [
      "331\n"
     ]
    }
   ],
   "source": [
    "s=1\n",
    "n=12\n",
    "for i in range(1,n):\n",
    "    s=s+(i*5)\n",
    "print(s)"
   ]
  },
  {
   "cell_type": "code",
   "execution_count": null,
   "metadata": {},
   "outputs": [],
   "source": [
    "n=int(input())\n",
    "for i in range(n):\n",
    "    s=input().split()\n",
    "    if(len(s)==1):\n",
    "        print(\"Valid\")\n",
    "    else:\n",
    "        status=True\n",
    "        for i in range(1,len(s)):\n",
    "            word1=s[i]\n",
    "            word2=s[i-1]\n",
    "            if(word1[0]==word2[-1]):\n",
    "                status=False\n",
    "        for i in s:\n",
    "            if(s.count(i)>1):\n",
    "                status=false\n",
    "        if(status):\n",
    "            print(\"Valid\")\n",
    "        else:\n",
    "            print(\"Invalid \")\n",
    "            \n",
    "    "
   ]
  },
  {
   "cell_type": "code",
   "execution_count": 31,
   "metadata": {},
   "outputs": [
    {
     "name": "stdout",
     "output_type": "stream",
     "text": [
      "('DOSHI', 'DOSHI@hackerrank.com')\n",
      "DOSHI <DOSHI@hackerrank.com>\n"
     ]
    }
   ],
   "source": [
    "import email.utils\n",
    "print(email.utils.parseaddr('DOSHI <DOSHI@hackerrank.com>'))\n",
    "print(email.utils.formataddr(('DOSHI', 'DOSHI@hackerrank.com')))"
   ]
  },
  {
   "cell_type": "code",
   "execution_count": null,
   "metadata": {},
   "outputs": [],
   "source": []
  }
 ],
 "metadata": {
  "kernelspec": {
   "display_name": "Python 3",
   "language": "python",
   "name": "python3"
  },
  "language_info": {
   "codemirror_mode": {
    "name": "ipython",
    "version": 3
   },
   "file_extension": ".py",
   "mimetype": "text/x-python",
   "name": "python",
   "nbconvert_exporter": "python",
   "pygments_lexer": "ipython3",
   "version": "3.7.3"
  }
 },
 "nbformat": 4,
 "nbformat_minor": 2
}
