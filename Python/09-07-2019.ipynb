{
 "cells": [
  {
   "cell_type": "code",
   "execution_count": 3,
   "metadata": {},
   "outputs": [
    {
     "data": {
      "text/plain": [
       "6"
      ]
     },
     "execution_count": 3,
     "metadata": {},
     "output_type": "execute_result"
    }
   ],
   "source": [
    "l=[1,4,6,2,3]\n",
    "max(l)"
   ]
  },
  {
   "cell_type": "code",
   "execution_count": null,
   "metadata": {},
   "outputs": [],
   "source": [
    "# Read All the individual scores of 10 sports persons and display the winner name\n",
    "# use Dictionaries for this problem\n",
    "data={}\n",
    "for i in range(11):\n",
    "    score=int(intput())\n",
    "    name=input()\n",
    "     "
   ]
  },
  {
   "cell_type": "code",
   "execution_count": 12,
   "metadata": {},
   "outputs": [
    {
     "name": "stdout",
     "output_type": "stream",
     "text": [
      "1 ---> vijay --> 30\n",
      "2 ---> lokesh --> 12\n",
      "3 ---> mastan --> 11\n",
      "4 ---> pavan --> 10\n",
      "5 ---> rajesh --> 9\n"
     ]
    }
   ],
   "source": [
    "# Read all the individual scores of the batsman\n",
    "# and print thire rankings based on the score\n",
    "data={\"pavan\":10,\"mastan\":11,\"lokesh\":12,\"rajesh\":9,\"vijay\":30}\n",
    "# for i in range(5):\n",
    "#     name=input()\n",
    "#     score=int(input())\n",
    "#     data[name]=score\n",
    "sorteddata=list(sorted(data.values(),reverse=True))\n",
    "i=1\n",
    "for value in sorteddata:\n",
    "    for item in data.items():\n",
    "        if(value==item[1]):\n",
    "            print(i,'--->',item[0],'-->',value)\n",
    "            i+=1"
   ]
  },
  {
   "cell_type": "code",
   "execution_count": 15,
   "metadata": {},
   "outputs": [
    {
     "name": "stdout",
     "output_type": "stream",
     "text": [
      "1\n",
      "5\n"
     ]
    }
   ],
   "source": [
    "def commonFactors(x, y):\n",
    "    if x > y:\n",
    "        smaller = y\n",
    "    else:\n",
    "        smaller = x\n",
    "    for i in range(1, smaller+1):\n",
    "        if((x % i == 0) and (y % i == 0)):\n",
    "             print(i)\n",
    "commonFactors(10,15)"
   ]
  },
  {
   "cell_type": "code",
   "execution_count": 37,
   "metadata": {},
   "outputs": [
    {
     "data": {
      "text/plain": [
       "5057"
      ]
     },
     "execution_count": 37,
     "metadata": {},
     "output_type": "execute_result"
    }
   ],
   "source": [
    "s=\"This is alpha 5057 and 97\"\n",
    "l=s.split()\n",
    "data=[]\n",
    "for i in l:\n",
    "    if i.isnumeric()==True:\n",
    "        data.append(i)\n",
    "data=list(map(int,data))\n",
    "max(data)"
   ]
  },
  {
   "cell_type": "code",
   "execution_count": 40,
   "metadata": {},
   "outputs": [
    {
     "name": "stdout",
     "output_type": "stream",
     "text": [
      "3\n"
     ]
    }
   ],
   "source": [
    "def highestRemainder(n):\n",
    "    hr = 0\n",
    "    v = n\n",
    "    for i in range(n-1, n // 2, -1):\n",
    "        r = n % i\n",
    "        if r > hr:\n",
    "            hr = r\n",
    "            v = i\n",
    "    print(v)\n",
    "    return\n",
    "\n",
    "highestRemainder(5)"
   ]
  },
  {
   "cell_type": "code",
   "execution_count": 47,
   "metadata": {},
   "outputs": [
    {
     "name": "stdout",
     "output_type": "stream",
     "text": [
      "['a', 'b', 'g', 'r']\n",
      "['a', 'b', 'g', 'r']\n",
      "abgr abgr\n"
     ]
    }
   ],
   "source": [
    "str1 = \"Grab\";  \n",
    "str2 = \"Brag\";   \n",
    "#Checking for the length of strings  \n",
    "if(len(str1)!= len(str2)):  \n",
    "    print (\"Both the strings are not anagram\");  \n",
    "else:  \n",
    "    #Converting the strings to lower case  \n",
    "    str1 = str1.lower();  \n",
    "    str2 = str2.lower();  \n",
    "    #Sorting the strings  \n",
    "    print(sorted(str1))\n",
    "    print(sorted(str2))\n",
    "    str1 = ''. join(sorted(str1));  \n",
    "    str2 = ''. join(sorted(str2));  \n",
    "    print(str1,str2)\n",
    "      \n",
    "    if (str1 == str2):  \n",
    "        print (\"Both the strings are anagram\");   \n",
    "    else:  \n",
    "        print (\"Both the strings are not anagram\");"
   ]
  },
  {
   "cell_type": "code",
   "execution_count": 2,
   "metadata": {},
   "outputs": [
    {
     "data": {
      "text/plain": [
       "'e'"
      ]
     },
     "execution_count": 2,
     "metadata": {},
     "output_type": "execute_result"
    }
   ],
   "source": [
    "chr(ord(i)+4)"
   ]
  },
  {
   "cell_type": "code",
   "execution_count": null,
   "metadata": {},
   "outputs": [],
   "source": []
  }
 ],
 "metadata": {
  "kernelspec": {
   "display_name": "Python 3",
   "language": "python",
   "name": "python3"
  },
  "language_info": {
   "codemirror_mode": {
    "name": "ipython",
    "version": 3
   },
   "file_extension": ".py",
   "mimetype": "text/x-python",
   "name": "python",
   "nbconvert_exporter": "python",
   "pygments_lexer": "ipython3",
   "version": "3.7.3"
  }
 },
 "nbformat": 4,
 "nbformat_minor": 2
}
