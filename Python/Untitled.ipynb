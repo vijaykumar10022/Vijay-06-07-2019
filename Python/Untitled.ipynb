{
 "cells": [
  {
   "cell_type": "markdown",
   "metadata": {},
   "source": [
    "### Problem Set:\n"
   ]
  },
  {
   "cell_type": "markdown",
   "metadata": {},
   "source": [
    "#Function to print all numbers divisible by 6 and not a factor of 100 in a given range(lb, ub) inclusive\n",
    "def divisible(lb,ub):\n",
    "    for i in range(lb,ub):\n",
    "        if(i%6==0 and i%100!=0):\n",
    "            print(i,end=',')\n",
    "divisible(1,100)"
   ]
  },
  {
   "cell_type": "code",
   "execution_count": 27,
   "metadata": {},
   "outputs": [
    {
     "data": {
      "text/plain": [
       "360.0"
      ]
     },
     "execution_count": 27,
     "metadata": {},
     "output_type": "execute_result"
    }
   ],
   "source": [
    "#Function to find the average of cubes of all even numbers in a given range(lb, ub) inclusive\n",
    "def avgofcubesforeven(lb,ub):\n",
    "    sum=0\n",
    "    count=0\n",
    "    for i in range(lb,ub+1):\n",
    "        if(i%2==0):\n",
    "            sum=sum+(i**3)\n",
    "            count+=1\n",
    "    return sum/count\n",
    "avgofcubesforeven(1,10)\n",
    "            "
   ]
  },
  {
   "cell_type": "code",
   "execution_count": 39,
   "metadata": {},
   "outputs": [
    {
     "name": "stdout",
     "output_type": "stream",
     "text": [
      "1 2 3 "
     ]
    }
   ],
   "source": [
    "#Function to generate the list of factors for a given number\n",
    "def listoffactors(n):\n",
    "    for i in range(1,n):\n",
    "        if(n%i==0):\n",
    "            print(i,end=' ')\n",
    "listoffactors(6)"
   ]
  },
  {
   "cell_type": "code",
   "execution_count": 22,
   "metadata": {},
   "outputs": [
    {
     "data": {
      "text/plain": [
       "120"
      ]
     },
     "execution_count": 22,
     "metadata": {},
     "output_type": "execute_result"
    }
   ],
   "source": [
    "#Function to calculate the factorial of a given number\n",
    "def factorial(n):\n",
    "    pro=1\n",
    "    for i in range(n,1,-1):\n",
    "        pro=pro*i\n",
    "    return pro\n",
    "\n",
    "factorial(5)"
   ]
  },
  {
   "cell_type": "code",
   "execution_count": 30,
   "metadata": {},
   "outputs": [
    {
     "name": "stdout",
     "output_type": "stream",
     "text": [
      "Prime\n"
     ]
    }
   ],
   "source": [
    "#Function to check if a given number is Prime\n",
    "def isprime(n):\n",
    "    c=0\n",
    "    for i in range(1,n+1):\n",
    "        if(n%i==0):\n",
    "            c+=1\n",
    "    if(c==2):\n",
    "        print(\"Prime\")\n",
    "    else:\n",
    "        print(\"not a prime\")\n",
    "isprime(7)"
   ]
  },
  {
   "cell_type": "code",
   "execution_count": 52,
   "metadata": {},
   "outputs": [
    {
     "data": {
      "text/plain": [
       "4.25"
      ]
     },
     "execution_count": 52,
     "metadata": {},
     "output_type": "execute_result"
    }
   ],
   "source": [
    "#Function to calculate the average first N Prime numbers\n",
    "def prime_Numbers(v):\n",
    "    oc=0\n",
    "    osum=0\n",
    "    for j in range(2,v):\n",
    "        c=0\n",
    "        for i in range(1,j+1):\n",
    "            if(j%i==0):\n",
    "                c+=1\n",
    "        if(c==2):\n",
    "#             print(j)\n",
    "            osum+=j\n",
    "            oc+=1\n",
    "    return osum/oc\n",
    "        \n",
    "    \n",
    "prime_Numbers(10)"
   ]
  },
  {
   "cell_type": "code",
   "execution_count": 47,
   "metadata": {},
   "outputs": [
    {
     "name": "stdout",
     "output_type": "stream",
     "text": [
      "6 28 496 "
     ]
    }
   ],
   "source": [
    "#Function to generate all Perfect numbers in a given range\n",
    "def perfectnumber(value):\n",
    "    for j in range(1,value):\n",
    "        sum=0\n",
    "        for i in range(1,j):\n",
    "            if(j%i==0):\n",
    "                sum+=i\n",
    "        if(sum==j):\n",
    "            print(j,end=' ')\n",
    "    \n",
    "perfectnumber(500)"
   ]
  },
  {
   "cell_type": "markdown",
   "metadata": {},
   "source": [
    "### Advanced Problem Set( Optional )"
   ]
  },
  {
   "cell_type": "code",
   "execution_count": 12,
   "metadata": {},
   "outputs": [
    {
     "name": "stdout",
     "output_type": "stream",
     "text": [
      "45457.0\n"
     ]
    }
   ],
   "source": [
    "# Function to calculate the average of all factorials in a given range\n",
    "def avgofallfact(ran):\n",
    "    sum=0\n",
    "    count=0\n",
    "    for j in range(1,ran):\n",
    "        pro=1\n",
    "        for i in range(j,1,-1):\n",
    "            pro=pro*i\n",
    "        sum+=pro\n",
    "        count+=1\n",
    "    print(sum/count)\n",
    "avgofallfact(10)"
   ]
  },
  {
   "cell_type": "code",
   "execution_count": 13,
   "metadata": {},
   "outputs": [
    {
     "name": "stdout",
     "output_type": "stream",
     "text": [
      "153\n",
      "371\n",
      "407\n"
     ]
    }
   ],
   "source": [
    "# Function to generate N odd Armstrong numbers\n",
    "def armstrongnumber(ub,lb):\n",
    "    for j in range(ub,lb):\n",
    "        if(j%2!=0):\n",
    "            t=j\n",
    "            l=len(str(j))\n",
    "            sum=0\n",
    "            while(t!=0):\n",
    "                sum=sum+(t%10)**l\n",
    "                t=t//10\n",
    "            if sum==j:\n",
    "                print(j)\n",
    "armstrongnumber(10,500)\n"
   ]
  },
  {
   "cell_type": "code",
   "execution_count": 10,
   "metadata": {},
   "outputs": [
    {
     "name": "stdout",
     "output_type": "stream",
     "text": [
      "10 * 100 = 10000\n",
      "10 * 101 = 10201\n",
      "10 * 102 = 10404\n"
     ]
    }
   ],
   "source": [
    "# Function to generate Multiplication table for a number in a given range\n",
    "# 10 in the range(100, 102) inclusive\n",
    "# 10 x 100 = 1000\n",
    "# 10 x 101 = 1010\n",
    "# 10 x 102 = 1020\n",
    "def Multiplication(n):\n",
    "    for i in range(100,102+1):\n",
    "        print(n,\"*\",i,\"=\",i*i)\n",
    "Multiplication(10)"
   ]
  },
  {
   "cell_type": "markdown",
   "metadata": {},
   "source": [
    "### Problems That needs a Try"
   ]
  },
  {
   "cell_type": "code",
   "execution_count": 19,
   "metadata": {},
   "outputs": [
    {
     "name": "stdout",
     "output_type": "stream",
     "text": [
      "vIJAYkUMAR!!\n"
     ]
    }
   ],
   "source": [
    "## You are given a string and your task is to swap cases. In other words, convert all lowercase letters to uppercase letters and vice versa. (The String may contain special characters).\n",
    "def swapcase(s):\n",
    "    s=s.swapcase()\n",
    "    print(s)\n",
    "swapcase(\"VijayKumar!!\")"
   ]
  },
  {
   "cell_type": "code",
   "execution_count": 32,
   "metadata": {},
   "outputs": [
    {
     "name": "stdout",
     "output_type": "stream",
     "text": [
      "Not Weird3\n"
     ]
    }
   ],
   "source": [
    "# Given an integer, ’n’ , perform the following conditional actions:\n",
    "# If ‘n’  is odd, print Weird\n",
    "# If  ‘n’ is even and in the inclusive range of 2 to 5, print Not Weird\n",
    "# If  ‘n’ is even and in the inclusive range of 6 to 20 , print Weird\n",
    "# If  ‘n’ is even and greater than 20, print Not Weird\n",
    "def wired_notweired(n):\n",
    "    if n%2!=0:\n",
    "        print(\"Weird\")\n",
    "    elif(n%2==0 and n in range(2,5)):\n",
    "        print(\"Not Weird1\")\n",
    "    elif(n%2==0 and n in range(6,20)):\n",
    "        print(\"Weird\")\n",
    "    else:\n",
    "        print(\"Not Weird3\")\n",
    "wired_notweired(26)"
   ]
  },
  {
   "cell_type": "code",
   "execution_count": null,
   "metadata": {},
   "outputs": [],
   "source": [
    "# Given the participants ‘n’ score sheet for your University Sports Day, you are required to find the runner-up score. You are given scores. Store them in a list and find the score of the runner-up. (there can be multiple winners - if their scores match). \n"
   ]
  }
 ],
 "metadata": {
  "kernelspec": {
   "display_name": "Python 3",
   "language": "python",
   "name": "python3"
  },
  "language_info": {
   "codemirror_mode": {
    "name": "ipython",
    "version": 3
   },
   "file_extension": ".py",
   "mimetype": "text/x-python",
   "name": "python",
   "nbconvert_exporter": "python",
   "pygments_lexer": "ipython3",
   "version": "3.7.3"
  }
 },
 "nbformat": 4,
 "nbformat_minor": 2
}
